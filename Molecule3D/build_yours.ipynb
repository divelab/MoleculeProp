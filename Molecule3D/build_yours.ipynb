{
 "cells": [
  {
   "cell_type": "markdown",
   "id": "ba71a40d-357f-42ac-909b-649f7a69212b",
   "metadata": {},
   "source": [
    "# Example to use the pipeline with your own model"
   ]
  },
  {
   "cell_type": "code",
   "execution_count": 1,
   "id": "ac87675d-7793-42d7-a38c-6c7ce3cc3b83",
   "metadata": {},
   "outputs": [],
   "source": [
    "import os\n",
    "import torch\n",
    "import torch.nn.functional as F\n",
    "from torch_geometric.nn import GINEConv\n",
    "\n",
    "from molx.dataset import Molecule3D\n",
    "from molx.mol3d import Mol3DTrainer, eval3d\n",
    "from molx.model import make_mask\n",
    "\n",
    "device = torch.device('cuda' if torch.cuda.is_available() else 'cpu')"
   ]
  },
  {
   "cell_type": "markdown",
   "id": "3d3ea2aa-a252-4532-94ca-49fa75f5b565",
   "metadata": {
    "tags": []
   },
   "source": [
    "## Build your own model"
   ]
  },
  {
   "cell_type": "markdown",
   "id": "ea13a13c",
   "metadata": {},
   "source": [
    "### 1. Define a GNN to obtain node representations\n",
    "In this example, we use a simple GINE model. You can use any PyTorch graph neural networks to compute node representations. This model takes a PyG Batch object as input, and outputs node representations as a torch tensor."
   ]
  },
  {
   "cell_type": "code",
   "execution_count": 2,
   "id": "d2656107-43fd-46d6-b2a0-8d3ba209c79f",
   "metadata": {},
   "outputs": [],
   "source": [
    "class GINENet(torch.nn.Module):\n",
    "    def __init__(self, num_node_features, num_edge_features, hidden, dropout):\n",
    "        super(GINENet, self).__init__()\n",
    "        self.conv1 = GINEConv(torch.nn.Sequential(torch.nn.Linear(num_node_features, hidden)),eps = 0, train_eps = True)\n",
    "        self.conv2 = GINEConv(torch.nn.Sequential(torch.nn.Linear(hidden, hidden)),eps = 0, train_eps = True)\n",
    "        self.conv3 = GINEConv(torch.nn.Sequential(torch.nn.Linear(hidden, hidden)),eps = 0, train_eps = True)\n",
    "        self.lin1 = torch.nn.Linear(num_edge_features, num_node_features, bias = True)\n",
    "        self.lin2 = torch.nn.Linear(num_node_features, hidden, bias = True)\n",
    "        self.dropout = dropout\n",
    "        self.fc = torch.nn.Linear(in_features=hidden, out_features=1)\n",
    "\n",
    "    def forward(self, batch_data):\n",
    "        \"\"\"\n",
    "        Args:\n",
    "            batch_data: A PyG Batch object describing a batch of graphs \n",
    "                        as one big (disconnected) graph.\n",
    "        \n",
    "        Return:\n",
    "            xs: A torch tensor of shape (n, hidden), which denotes \n",
    "                node representations.\n",
    "        \"\"\"\n",
    "        \n",
    "        x, edge_index, edge_attr = batch_data.x, batch_data.edge_index, batch_data.edge_attr\n",
    "\n",
    "        edge_attr = self.lin1(edge_attr.float())\n",
    "        xs = F.relu(self.conv1(x, edge_index, edge_attr))\n",
    "        xs = F.dropout(xs, p=self.dropout, training=self.training)\n",
    "        edge_attr = self.lin2(edge_attr.float())\n",
    "        xs = F.relu(self.conv2(xs, edge_index, edge_attr))\n",
    "        xs = self.conv3(xs, edge_index, edge_attr)\n",
    "\n",
    "        return xs"
   ]
  },
  {
   "cell_type": "markdown",
   "id": "e3117445",
   "metadata": {},
   "source": [
    "### 2. Define another model to compute pairwise distances\n",
    "Then, you need to define a model for calculating pairwise distances between nodes(atoms). This model takes node representations as input, and outputs a distance matrix. The output should be a torch tensor of shape $(n, n)$, where $n$ denotes the total number of nodes in this batch. Here we use the elementwise max method proposed in Molecule3D as an example. You can develop your own method.\n",
    "\n",
    "Note that only intra-molecular distances should be calculated. Inter-molecular distances are meaningless, they are thus ignored by a mask. You should also use the mask."
   ]
  },
  {
   "cell_type": "code",
   "execution_count": 3,
   "id": "0237b359",
   "metadata": {},
   "outputs": [],
   "source": [
    "class DistNet(torch.nn.Module):\n",
    "    def __init__(self, hidden, device=torch.device('cuda' if torch.cuda.is_available() else 'cpu')):\n",
    "        super(DistNet, self).__init__()\n",
    "        self.fc = torch.nn.Linear(in_features=hidden, out_features=1)\n",
    "        self.device = device\n",
    "    \n",
    "    def forward(self, xs, batch, train=False):\n",
    "        \"\"\"\n",
    "        Args:\n",
    "            xs: A torch tensor of shape (n, hidden), which denotes \n",
    "                node representations.\n",
    "            \n",
    "        Return:\n",
    "            mask_d_pred: A torch tensor of shape (n, n), where n\n",
    "                        denotes the total number of nodes in \n",
    "                        this batch.\n",
    "            mask: A torch tensor of shape (n, n). Value 1 indicates \n",
    "                    intra-molecular, while value 0 indicates \n",
    "                    inter-molecular.\n",
    "            count: Total number of intra-molecular in this batch.\n",
    "        \"\"\"\n",
    "        d_pred = self.fc(torch.max(xs.unsqueeze(0), xs.unsqueeze(1))).squeeze()\n",
    "        mask, count = make_mask(batch, self.device)\n",
    "\n",
    "        if train:\n",
    "            mask_d_pred = d_pred * mask\n",
    "        else:\n",
    "            mask_d_pred = F.relu(d_pred * mask) # Enforce non-negative distances for evaluation\n",
    "        return mask_d_pred, mask, count"
   ]
  },
  {
   "cell_type": "markdown",
   "id": "9112b9a9",
   "metadata": {},
   "source": [
    "### 3. Define your final model"
   ]
  },
  {
   "cell_type": "code",
   "execution_count": 4,
   "id": "d5ce820e",
   "metadata": {},
   "outputs": [],
   "source": [
    "class MyModel(torch.nn.Module):\n",
    "    def __init__(self, num_node_features, num_edge_features, hidden, dropout):\n",
    "        super(MyModel, self).__init__()\n",
    "        self.node_embed = GINENet(num_node_features, num_edge_features, hidden, dropout)\n",
    "        self.calc_dist = DistNet(hidden)\n",
    "    \n",
    "    def forward(self, batch_data, train=False):\n",
    "        xs = self.node_embed(batch_data)\n",
    "        mask_d_pred, mask, count = self.calc_dist(xs, batch_data.batch)\n",
    "        return mask_d_pred, mask, count"
   ]
  },
  {
   "cell_type": "markdown",
   "id": "07a01f78",
   "metadata": {},
   "source": [
    "### 4. Initiate your model"
   ]
  },
  {
   "cell_type": "code",
   "execution_count": 9,
   "id": "b99c1461",
   "metadata": {},
   "outputs": [],
   "source": [
    "model = MyModel(num_node_features=9, num_edge_features=3, hidden=256, dropout=0).to(device) "
   ]
  },
  {
   "cell_type": "markdown",
   "id": "90a595d2",
   "metadata": {},
   "source": [
    "## Configurations"
   ]
  },
  {
   "cell_type": "code",
   "execution_count": 6,
   "id": "5ad79daf",
   "metadata": {},
   "outputs": [],
   "source": [
    "conf = {}\n",
    "conf['epochs'] = 5\n",
    "conf['early_stopping'] = 3\n",
    "conf['lr'] = 0.0001\n",
    "conf['lr_decay_factor'] = 0.8\n",
    "conf['lr_decay_step_size'] = 10\n",
    "conf['dropout'] = 0\n",
    "conf['weight_decay'] = 0\n",
    "conf['batch_size'] = 20\n",
    "conf['save_ckpt'] = 'best_valid'\n",
    "conf['out_path'] = 'results/exp0/'\n",
    "conf['split'] = 'random' # or 'scaffold'\n",
    "conf['criterion'] = 'mse'"
   ]
  },
  {
   "cell_type": "markdown",
   "id": "0af0009e-dad3-424e-8a75-1bae1b71a3f7",
   "metadata": {
    "tags": []
   },
   "source": [
    "## Load dataset"
   ]
  },
  {
   "cell_type": "code",
   "execution_count": 7,
   "id": "7abff8c8-fa4b-4984-9c52-37e3d1500114",
   "metadata": {},
   "outputs": [],
   "source": [
    "root_dir = os.getcwd() # Where your data folder is located\n",
    "\n",
    "train_dataset = Molecule3D(root=root_dir, transform=None, split='train', split_mode=conf['split'])\n",
    "val_dataset = Molecule3D(root=root_dir, transform=None, split='val', split_mode=conf['split'])\n",
    "test_dataset = Molecule3D(root=root_dir, transform=None, split='test', split_mode=conf['split'])\n",
    "\n",
    "# In this example, we use a subset of dataset for illustration\n",
    "train_dataset = train_dataset[:1000]\n",
    "val_dataset = val_dataset[:100]\n",
    "test_dataset = test_dataset[:100]"
   ]
  },
  {
   "cell_type": "markdown",
   "id": "a81ada20-1b40-4931-aea9-30f475d9b735",
   "metadata": {},
   "source": [
    "## Training"
   ]
  },
  {
   "cell_type": "code",
   "execution_count": 10,
   "id": "a8a9b4b5-1140-4780-93c7-fc54f31a0f3f",
   "metadata": {},
   "outputs": [
    {
     "name": "stdout",
     "output_type": "stream",
     "text": [
      "epoch: 1; Train -- loss: 8.898\n",
      "epoch: 1; Valid -- val_MAE: 2.163; val_RMSE: 2.861; val_Validity: 2.00%; val_Validity3D: 0.00%;\n",
      "============================================================================================================\n",
      "epoch: 2; Train -- loss: 6.685\n",
      "epoch: 2; Valid -- val_MAE: 2.067; val_RMSE: 2.669; val_Validity: 3.00%; val_Validity3D: 0.00%;\n",
      "============================================================================================================\n",
      "epoch: 3; Train -- loss: 6.158\n",
      "epoch: 3; Valid -- val_MAE: 1.965; val_RMSE: 2.568; val_Validity: 2.00%; val_Validity3D: 0.00%;\n",
      "============================================================================================================\n",
      "epoch: 4; Train -- loss: 5.696\n",
      "epoch: 4; Valid -- val_MAE: 2.002; val_RMSE: 2.558; val_Validity: 2.00%; val_Validity3D: 0.00%;\n",
      "============================================================================================================\n",
      "epoch: 5; Train -- loss: 5.425\n",
      "epoch: 5; Valid -- val_MAE: 1.866; val_RMSE: 2.468; val_Validity: 2.00%; val_Validity3D: 0.00%;\n",
      "============================================================================================================\n",
      "Best valid epoch is 5; Best val_MAE: 1.866; Best val_RMSE: 2.468; Best val_Validity: 2.00%; Best val_Validity3D: 0.00%\n",
      "============================================================================================================\n"
     ]
    }
   ],
   "source": [
    "trainer = Mol3DTrainer(train_dataset, val_dataset, conf,\n",
    "                       device=device)\n",
    "model = trainer.train(model)"
   ]
  },
  {
   "cell_type": "markdown",
   "id": "9f0b1286-e693-4449-97f7-77854e70cb88",
   "metadata": {},
   "source": [
    "## Evaluation"
   ]
  },
  {
   "cell_type": "code",
   "execution_count": 11,
   "id": "92cc1912-1b6f-43bd-96b7-e347bb10aa94",
   "metadata": {},
   "outputs": [
    {
     "name": "stdout",
     "output_type": "stream",
     "text": [
      "load best val model...\n",
      "epoch: 5; Test -- test_MAE: 1.808; test_RMSE: 2.324; % test_Validity: 1.00%;  % test_Validity3D: 0.00%;\n"
     ]
    }
   ],
   "source": [
    "print('load best val model...')\n",
    "best_model_path = os.path.join(conf['out_path'], 'ckpt_best_val.pth')\n",
    "checkpoint = torch.load(best_model_path)\n",
    "model.load_state_dict(checkpoint['model'])\n",
    "\n",
    "mae, rmse, test_validity, test_validity3d = eval3d(model, test_dataset)\n",
    "print('epoch: {}; Test -- test_MAE: {:.3f}; test_RMSE: {:.3f}; % test_Validity: {:.2f}%;  % test_Validity3D: {:.2f}%;'\n",
    "                           .format(checkpoint['epoch'], mae, rmse, test_validity*100, test_validity3d*100))"
   ]
  },
  {
   "cell_type": "code",
   "execution_count": null,
   "id": "343a3322",
   "metadata": {},
   "outputs": [],
   "source": []
  }
 ],
 "metadata": {
  "kernelspec": {
   "display_name": "Python 3",
   "language": "python",
   "name": "python3"
  },
  "language_info": {
   "codemirror_mode": {
    "name": "ipython",
    "version": 3
   },
   "file_extension": ".py",
   "mimetype": "text/x-python",
   "name": "python",
   "nbconvert_exporter": "python",
   "pygments_lexer": "ipython3",
   "version": "3.6.13"
  }
 },
 "nbformat": 4,
 "nbformat_minor": 5
}